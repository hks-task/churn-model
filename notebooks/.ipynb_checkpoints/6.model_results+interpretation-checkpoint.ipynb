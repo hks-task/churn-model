{
 "cells": [
  {
   "cell_type": "code",
   "execution_count": 1,
   "metadata": {
    "ExecuteTime": {
     "end_time": "2020-10-10T16:53:12.293489Z",
     "start_time": "2020-10-10T16:53:08.597063Z"
    }
   },
   "outputs": [],
   "source": [
    "import pandas as pd\n",
    "import numpy as np\n",
    "from datetime import datetime, timedelta\n",
    "\n",
    "import matplotlib.pyplot as plt\n",
    "import seaborn as sns\n",
    "\n",
    "import xgboost\n",
    "from sklearn import metrics\n",
    "from sklearn.model_selection import cross_val_predict\n",
    "from sklearn.model_selection import KFold\n",
    "from sklearn.preprocessing import LabelEncoder\n",
    "from sklearn.metrics import classification_report\n",
    "from sklearn.metrics import roc_auc_score\n",
    "\n",
    "kfold = KFold(n_splits=5, random_state=42)\n",
    "break_point = datetime(2017, 2, 28)"
   ]
  },
  {
   "cell_type": "code",
   "execution_count": 2,
   "metadata": {
    "ExecuteTime": {
     "end_time": "2020-10-10T16:53:12.314427Z",
     "start_time": "2020-10-10T16:53:12.305022Z"
    }
   },
   "outputs": [],
   "source": [
    "def read_data():\n",
    "    \n",
    "    print('Reading files...')    \n",
    "    order_df = pd.read_csv('../input/machine_learning_challenge_order_data.csv')\n",
    "    print('Order data has {} rows and {} columns'.format(order_df.shape[0], order_df.shape[1]))\n",
    "    label_df = pd.read_csv('../input/machine_learning_challenge_labeled_data.csv')\n",
    "    print('Label data has {} rows and {} columns'.format(label_df.shape[0], label_df.shape[1]))\n",
    "    df = order_df.merge(label_df, on='customer_id')\n",
    "    print('The final data has {} rows and {} columns'.format(df.shape[0], df.shape[1]))\n",
    "    return df"
   ]
  },
  {
   "cell_type": "code",
   "execution_count": 3,
   "metadata": {
    "ExecuteTime": {
     "end_time": "2020-10-10T16:53:12.327960Z",
     "start_time": "2020-10-10T16:53:12.318049Z"
    }
   },
   "outputs": [],
   "source": [
    "def reduce_mem_usage(df, verbose=False):\n",
    "    \n",
    "    start_mem = df.memory_usage().sum() / 1024 ** 2\n",
    "    int_columns = df.select_dtypes(include=[\"int\"]).columns\n",
    "    float_columns = df.select_dtypes(include=[\"float\"]).columns\n",
    "\n",
    "    for col in int_columns:\n",
    "        df[col] = pd.to_numeric(df[col], downcast=\"integer\")\n",
    "\n",
    "    for col in float_columns:\n",
    "        df[col] = pd.to_numeric(df[col], downcast=\"float\")\n",
    "\n",
    "    end_mem = df.memory_usage().sum() / 1024 ** 2\n",
    "    if verbose:\n",
    "        print(\n",
    "            \"Mem. usage decreased to {:5.2f} Mb ({:.1f}% reduction)\".format(\n",
    "                end_mem, 100 * (start_mem - end_mem) / start_mem\n",
    "            )\n",
    "        )\n",
    "    return df"
   ]
  },
  {
   "cell_type": "code",
   "execution_count": 4,
   "metadata": {
    "ExecuteTime": {
     "end_time": "2020-10-10T16:53:12.340529Z",
     "start_time": "2020-10-10T16:53:12.330990Z"
    }
   },
   "outputs": [],
   "source": [
    "def getWeeklyDates(df, break_point):\n",
    "\n",
    "    df['order_date'] = pd.to_datetime(df['order_date'])\n",
    "    three_day = df[df['order_date'] >= break_point - timedelta(days=3)]\n",
    "    one_week = df[df['order_date'] >= break_point - timedelta(days=7)]\n",
    "    two_week = df[df['order_date'] >= break_point - timedelta(days=14)]\n",
    "    four_week = df[df['order_date'] >= break_point - timedelta(days=28)]\n",
    "    twelve_week = df[df['order_date'] >= break_point - timedelta(days=84)]\n",
    "    twenty_four_week = df[df['order_date'] >= break_point - timedelta(days=168)]\n",
    "    all_week = df\n",
    "    return three_day, one_week, two_week, four_week, twelve_week, twenty_four_week,all_week"
   ]
  },
  {
   "cell_type": "code",
   "execution_count": 5,
   "metadata": {
    "ExecuteTime": {
     "end_time": "2020-10-10T16:53:12.350440Z",
     "start_time": "2020-10-10T16:53:12.344802Z"
    }
   },
   "outputs": [],
   "source": [
    "def transform_data(df):\n",
    "\n",
    "    labelencoder = LabelEncoder()\n",
    "\n",
    "    for i in ['restaurant_id', 'city_id', 'payment_id', 'platform_id', 'transmission_id']:\n",
    "        df[i] = labelencoder.fit_transform(df[i])\n",
    "\n",
    "    return df"
   ]
  },
  {
   "cell_type": "code",
   "execution_count": 6,
   "metadata": {
    "ExecuteTime": {
     "end_time": "2020-10-10T16:53:12.378780Z",
     "start_time": "2020-10-10T16:53:12.354269Z"
    }
   },
   "outputs": [],
   "source": [
    "def feature_engineering(df, break_point):\n",
    "    \n",
    "    df['customer_order_rank'] = df['customer_order_rank'].fillna(method='ffill')\n",
    "\n",
    "    df['date'] = pd.to_datetime(df['order_date']) \n",
    "    df['recency'] = (break_point - df['date']) / np.timedelta64(1, 'D')\n",
    "    df['first_order_date'] = df.groupby(['customer_id'])['date'].transform('first')\n",
    "    df['age_of_user'] = (break_point - df['first_order_date']) / np.timedelta64(1, 'D')\n",
    "\n",
    "    df['year'] = df['date'].dt.year\n",
    "    df['month'] = df['date'].dt.month\n",
    "    df['week'] = df['date'].dt.week\n",
    "    df['day'] = df['date'].dt.day\n",
    "    df['dayofweek'] = df['date'].dt.dayofweek\n",
    "    df[\"is_weekend\"] = df[\"dayofweek\"].isin([5, 6]).astype(np.int8)\n",
    "    \n",
    "    df['demand'] = 1\n",
    "    \n",
    "    df['order_date_shift'] = df.groupby('customer_id')['date'].shift()\n",
    "    df['date_diff'] = (df['date'] - df['order_date_shift']) / np.timedelta64(1, 'D')\n",
    "\n",
    "    three_day, one_week, two_week, four_week, twelve_week, twenty_four_week,all_week = getWeeklyDates(df, break_point)\n",
    "    \n",
    "    col = ['demand', 'is_failed','voucher_amount','delivery_fee', 'amount_paid', 'date_diff']\n",
    "    three_day, one_week, two_week, four_week, twelve_week, twenty_four_week,all_week = getWeeklyDates(df, break_point)\n",
    "    three_day = three_day.groupby('customer_id')[col].mean().add_prefix('three_day_').reset_index()\n",
    "    one_week = one_week.groupby('customer_id')[col].mean().add_prefix('one_week_').reset_index()\n",
    "    two_week = two_week.groupby('customer_id')[col].mean().add_prefix('two_week_').reset_index()\n",
    "    four_week = four_week.groupby('customer_id')[col].mean().add_prefix('four_week_').reset_index()\n",
    "    twelve_week = twelve_week.groupby('customer_id')[col].mean().add_prefix('twelve_week_').reset_index()\n",
    "    twenty_four_week = twenty_four_week.groupby('customer_id')[col].mean().add_prefix('twenty_four_week_').reset_index()\n",
    "    all_week = all_week.groupby('customer_id')[col].mean().add_prefix('all_week_').reset_index()\n",
    "    \n",
    "    df = df.groupby('customer_id').last().reset_index()\n",
    "    df = df.merge(three_day, how='left').merge(one_week, how='left').merge(two_week, how='left').merge(four_week,\n",
    "    'left').merge(twelve_week,'left').merge(twenty_four_week,'left').merge(all_week,'left').reset_index()\n",
    "\n",
    "    return df"
   ]
  },
  {
   "cell_type": "code",
   "execution_count": 7,
   "metadata": {
    "ExecuteTime": {
     "end_time": "2020-10-10T16:53:12.390909Z",
     "start_time": "2020-10-10T16:53:12.381401Z"
    }
   },
   "outputs": [],
   "source": [
    "def run_lgb(df):\n",
    "    \n",
    "    y = df['is_returning_customer']\n",
    "    X = df.drop(columns=['customer_id', 'order_date', 'date', 'is_returning_customer',\n",
    "                        'first_order_date', 'index', 'order_date_shift'])    \n",
    "    \n",
    "    clf = xgboost.XGBClassifier(objective= 'binary:logistic', n_jobs= -1\n",
    "                               )\n",
    "    clf.fit(X, y)\n",
    "    \n",
    "    y_pred = cross_val_predict(clf, X, y, cv=kfold)\n",
    "    \n",
    "    predicted = pd.DataFrame(y_pred, index=df.customer_id, columns=['y_pred']).reset_index()\n",
    "    predicted['y_actual'] = y\n",
    "    predicted = predicted.merge(df[['customer_id', 'customer_order_rank','recency']], on='customer_id')\n",
    "    #predicted.to_csv('pred.csv')\n",
    "\n",
    "    print('Accuracy Score:  ', round(metrics.accuracy_score(y, y_pred), 2))\n",
    "    print('Roc Auc Score:  ', round(roc_auc_score(y, y_pred), 2))\n",
    "    print('Classification Report: \\n', classification_report(y, y_pred, target_names=['0', '1']))\n",
    "    return predicted"
   ]
  },
  {
   "cell_type": "code",
   "execution_count": 8,
   "metadata": {
    "ExecuteTime": {
     "end_time": "2020-10-10T16:55:43.293569Z",
     "start_time": "2020-10-10T16:53:12.394844Z"
    }
   },
   "outputs": [
    {
     "name": "stdout",
     "output_type": "stream",
     "text": [
      "Reading files...\n",
      "Order data has 786600 rows and 13 columns\n",
      "Label data has 245455 rows and 2 columns\n",
      "Mem. usage decreased to 42.76 Mb (52.5% reduction)\n",
      "Accuracy Score:   0.84\n",
      "Roc Auc Score:   0.7\n",
      "Classification Report: \n",
      "               precision    recall  f1-score   support\n",
      "\n",
      "           0       0.85      0.96      0.90    189948\n",
      "           1       0.75      0.44      0.55     55507\n",
      "\n",
      "   micro avg       0.84      0.84      0.84    245455\n",
      "   macro avg       0.80      0.70      0.73    245455\n",
      "weighted avg       0.83      0.84      0.82    245455\n",
      "\n"
     ]
    }
   ],
   "source": [
    "def transform_train_and_eval():\n",
    "    \n",
    "    df = read_data()\n",
    "    df = reduce_mem_usage(df, True)\n",
    "    df = transform_data(df)\n",
    "    df = feature_engineering(df, break_point)\n",
    "    predicted = run_lgb(df)\n",
    "    return predicted\n",
    "\n",
    "predicted = transform_train_and_eval()"
   ]
  },
  {
   "cell_type": "code",
   "execution_count": 20,
   "metadata": {
    "ExecuteTime": {
     "end_time": "2020-10-11T12:52:58.721222Z",
     "start_time": "2020-10-11T12:52:58.651208Z"
    },
    "scrolled": true
   },
   "outputs": [
    {
     "data": {
      "text/html": [
       "<div>\n",
       "<style scoped>\n",
       "    .dataframe tbody tr th:only-of-type {\n",
       "        vertical-align: middle;\n",
       "    }\n",
       "\n",
       "    .dataframe tbody tr th {\n",
       "        vertical-align: top;\n",
       "    }\n",
       "\n",
       "    .dataframe thead th {\n",
       "        text-align: right;\n",
       "    }\n",
       "</style>\n",
       "<table border=\"1\" class=\"dataframe\">\n",
       "  <thead>\n",
       "    <tr style=\"text-align: right;\">\n",
       "      <th></th>\n",
       "      <th>customer_id</th>\n",
       "      <th>y_pred</th>\n",
       "      <th>y_actual</th>\n",
       "      <th>customer_order_rank</th>\n",
       "      <th>recency</th>\n",
       "      <th>order_binned</th>\n",
       "      <th>recency_binned</th>\n",
       "      <th>is_true</th>\n",
       "    </tr>\n",
       "  </thead>\n",
       "  <tbody>\n",
       "    <tr>\n",
       "      <th>0</th>\n",
       "      <td>000097eabfd9</td>\n",
       "      <td>0</td>\n",
       "      <td>0</td>\n",
       "      <td>1.0</td>\n",
       "      <td>619.0</td>\n",
       "      <td>1</td>\n",
       "      <td>168+</td>\n",
       "      <td>1</td>\n",
       "    </tr>\n",
       "    <tr>\n",
       "      <th>1</th>\n",
       "      <td>0000e2c6d9be</td>\n",
       "      <td>0</td>\n",
       "      <td>0</td>\n",
       "      <td>1.0</td>\n",
       "      <td>396.0</td>\n",
       "      <td>1</td>\n",
       "      <td>168+</td>\n",
       "      <td>1</td>\n",
       "    </tr>\n",
       "    <tr>\n",
       "      <th>2</th>\n",
       "      <td>000133bb597f</td>\n",
       "      <td>0</td>\n",
       "      <td>1</td>\n",
       "      <td>1.0</td>\n",
       "      <td>2.0</td>\n",
       "      <td>1</td>\n",
       "      <td>0-7</td>\n",
       "      <td>0</td>\n",
       "    </tr>\n",
       "    <tr>\n",
       "      <th>3</th>\n",
       "      <td>00018269939b</td>\n",
       "      <td>0</td>\n",
       "      <td>0</td>\n",
       "      <td>1.0</td>\n",
       "      <td>23.0</td>\n",
       "      <td>1</td>\n",
       "      <td>15-28</td>\n",
       "      <td>1</td>\n",
       "    </tr>\n",
       "    <tr>\n",
       "      <th>4</th>\n",
       "      <td>0001a00468a6</td>\n",
       "      <td>0</td>\n",
       "      <td>0</td>\n",
       "      <td>1.0</td>\n",
       "      <td>574.0</td>\n",
       "      <td>1</td>\n",
       "      <td>168+</td>\n",
       "      <td>1</td>\n",
       "    </tr>\n",
       "    <tr>\n",
       "      <th>...</th>\n",
       "      <td>...</td>\n",
       "      <td>...</td>\n",
       "      <td>...</td>\n",
       "      <td>...</td>\n",
       "      <td>...</td>\n",
       "      <td>...</td>\n",
       "      <td>...</td>\n",
       "      <td>...</td>\n",
       "    </tr>\n",
       "    <tr>\n",
       "      <th>245450</th>\n",
       "      <td>fffd696eaedd</td>\n",
       "      <td>0</td>\n",
       "      <td>0</td>\n",
       "      <td>1.0</td>\n",
       "      <td>533.0</td>\n",
       "      <td>1</td>\n",
       "      <td>168+</td>\n",
       "      <td>1</td>\n",
       "    </tr>\n",
       "    <tr>\n",
       "      <th>245451</th>\n",
       "      <td>fffe9d5a8d41</td>\n",
       "      <td>0</td>\n",
       "      <td>1</td>\n",
       "      <td>1.0</td>\n",
       "      <td>151.0</td>\n",
       "      <td>1</td>\n",
       "      <td>85-168</td>\n",
       "      <td>0</td>\n",
       "    </tr>\n",
       "    <tr>\n",
       "      <th>245452</th>\n",
       "      <td>ffff347c3cfa</td>\n",
       "      <td>0</td>\n",
       "      <td>1</td>\n",
       "      <td>2.0</td>\n",
       "      <td>166.0</td>\n",
       "      <td>2-4</td>\n",
       "      <td>85-168</td>\n",
       "      <td>0</td>\n",
       "    </tr>\n",
       "    <tr>\n",
       "      <th>245453</th>\n",
       "      <td>ffff4519b52d</td>\n",
       "      <td>0</td>\n",
       "      <td>0</td>\n",
       "      <td>1.0</td>\n",
       "      <td>332.0</td>\n",
       "      <td>1</td>\n",
       "      <td>168+</td>\n",
       "      <td>1</td>\n",
       "    </tr>\n",
       "    <tr>\n",
       "      <th>245454</th>\n",
       "      <td>ffffccbfc8a4</td>\n",
       "      <td>0</td>\n",
       "      <td>0</td>\n",
       "      <td>1.0</td>\n",
       "      <td>640.0</td>\n",
       "      <td>1</td>\n",
       "      <td>168+</td>\n",
       "      <td>1</td>\n",
       "    </tr>\n",
       "  </tbody>\n",
       "</table>\n",
       "<p>245455 rows × 8 columns</p>\n",
       "</div>"
      ],
      "text/plain": [
       "         customer_id  y_pred  y_actual  customer_order_rank  recency  \\\n",
       "0       000097eabfd9       0         0                  1.0    619.0   \n",
       "1       0000e2c6d9be       0         0                  1.0    396.0   \n",
       "2       000133bb597f       0         1                  1.0      2.0   \n",
       "3       00018269939b       0         0                  1.0     23.0   \n",
       "4       0001a00468a6       0         0                  1.0    574.0   \n",
       "...              ...     ...       ...                  ...      ...   \n",
       "245450  fffd696eaedd       0         0                  1.0    533.0   \n",
       "245451  fffe9d5a8d41       0         1                  1.0    151.0   \n",
       "245452  ffff347c3cfa       0         1                  2.0    166.0   \n",
       "245453  ffff4519b52d       0         0                  1.0    332.0   \n",
       "245454  ffffccbfc8a4       0         0                  1.0    640.0   \n",
       "\n",
       "       order_binned recency_binned  is_true  \n",
       "0                 1           168+        1  \n",
       "1                 1           168+        1  \n",
       "2                 1            0-7        0  \n",
       "3                 1          15-28        1  \n",
       "4                 1           168+        1  \n",
       "...             ...            ...      ...  \n",
       "245450            1           168+        1  \n",
       "245451            1         85-168        0  \n",
       "245452          2-4         85-168        0  \n",
       "245453            1           168+        1  \n",
       "245454            1           168+        1  \n",
       "\n",
       "[245455 rows x 8 columns]"
      ]
     },
     "execution_count": 20,
     "metadata": {},
     "output_type": "execute_result"
    }
   ],
   "source": [
    "predicted"
   ]
  },
  {
   "cell_type": "code",
   "execution_count": 21,
   "metadata": {
    "ExecuteTime": {
     "end_time": "2020-10-11T12:53:17.376414Z",
     "start_time": "2020-10-11T12:53:17.178008Z"
    }
   },
   "outputs": [],
   "source": [
    "order_bins = [0, 1, 4, 9, 49, 99, 999]\n",
    "order_labels = [\"1\", \"2-4\", \"5-9\", \"10-49\", \"50-99\", \"100+\"]\n",
    "predicted['order_binned'] = pd.cut(predicted['customer_order_rank'], bins=order_bins, labels=order_labels)\n",
    "\n",
    "recency_bins = [0, 7, 14, 28, 84, 168, 1680]\n",
    "recency_labels = [\"0-7\", \"8-14\", \"15-28\", \"29-84\", \"85-168\", \"168+\"]\n",
    "predicted['recency_binned'] = pd.cut(predicted['recency'], bins=recency_bins, labels=recency_labels)\n",
    "\n",
    "predicted['is_true'] = np.where(predicted.y_pred==predicted.y_actual, 1, 0)\n",
    "\n",
    "y_actual = predicted.pivot_table(columns='order_binned', \n",
    "                                     index='recency_binned', values='y_actual', aggfunc='mean')\n",
    "y_pred = predicted.pivot_table(columns='order_binned', \n",
    "                                     index='recency_binned', values='y_pred', aggfunc='mean')\n",
    "customer_count = predicted.pivot_table(columns='order_binned', \n",
    "                                     index='recency_binned', values='y_pred', aggfunc='count')\n",
    "model_performance = predicted.pivot_table(columns='order_binned', \n",
    "                                     index='recency_binned', values='is_true', aggfunc='mean')"
   ]
  },
  {
   "cell_type": "code",
   "execution_count": 30,
   "metadata": {
    "ExecuteTime": {
     "end_time": "2020-10-11T13:21:56.732789Z",
     "start_time": "2020-10-11T13:21:54.329371Z"
    }
   },
   "outputs": [
    {
     "data": {
      "image/png": "[encoded data removed]",
      "text/plain": [
       "<Figure size 1296x576 with 4 Axes>"
      ]
     },
     "metadata": {
      "needs_background": "light"
     },
     "output_type": "display_data"
    }
   ],
   "source": [
    "fig, (ax0,ax1) = plt.subplots(1,2, figsize=(18, 8))\n",
    "\n",
    "sns.heatmap(data = round(model_performance, 2), annot = True, cmap='Blues', fmt='g', ax=ax0)\n",
    "ax0.set_title('Model Performance (accuracy)')\n",
    "ax0.set_xlabel('Order Bins')\n",
    "ax0.set_ylabel('Recency Bins')\n",
    "\n",
    "sns.heatmap(data = round(y_pred, 2), annot = True, cmap='Blues', fmt='g', ax=ax1)\n",
    "ax1.set_title('Model Prediction (y_pred)')\n",
    "ax1.set_xlabel('Order Bins')\n",
    "ax1.set_ylabel('Recency Bins')\n",
    "plt.show()"
   ]
  },
  {
   "cell_type": "markdown",
   "metadata": {},
   "source": [
    "### What is next?"
   ]
  },
  {
   "cell_type": "markdown",
   "metadata": {},
   "source": [
    "XGB model labels almost all newcomers and 168+ recency customers as churn (right below)\n",
    "\n",
    "Model performance (y_pred=y_actual) is higher for 10+ customers but lower for 2-4 order and 12-24 week recency customer cohorts. (left below)\n",
    "\n",
    "We could spend more time tuning hyper-parameters but we should always keep in mind that it is impossible to predict all customers correctly. (no one predicts a customer with 1 order and 24+ week recency to give an order again.) \n",
    "\n",
    "For further analysis, it would be good to get geolocation data because it helps to understand whether a customer in our service area currently. (holiday, business trip, etc.)\n",
    "\n",
    "Other features especially for the last order would increase model performance: \n",
    "- Rating\n",
    "- Comment\n",
    "- Delivery time\n",
    "- Live chat experience\n",
    "- Cancel reasons (courier, rest, user, etc.)\n",
    "- Socio-economic: Device type & OS type & District\n",
    "\n",
    "Now, we will create a production-ready py version of the final model."
   ]
  }
 ],
 "metadata": {
  "hide_input": false,
  "kernelspec": {
   "display_name": "Python 3",
   "language": "python",
   "name": "python3"
  },
  "language_info": {
   "codemirror_mode": {
    "name": "ipython",
    "version": 3
   },
   "file_extension": ".py",
   "mimetype": "text/x-python",
   "name": "python",
   "nbconvert_exporter": "python",
   "pygments_lexer": "ipython3",
   "version": "3.7.3"
  }
 },
 "nbformat": 4,
 "nbformat_minor": 2
}
