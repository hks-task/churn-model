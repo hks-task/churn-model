{
 "cells": [
  {
   "cell_type": "markdown",
   "metadata": {},
   "source": [
    "## Objective of the notebook:\n",
    "\n",
    "In this notebook, we explore the given customer order dataset and make some analysis and inferences. Based on this data analysis and recency-frequency segmentation, we could build rule-based marketing/growth strategies to prevent churn cases on time. "
   ]
  },
  {
   "cell_type": "markdown",
   "metadata": {},
   "source": [
    "## Data dictionary  \n",
    "  \n",
    "There are two data samples provided as (gunzipped) CSV files.  \n",
    "  \n",
    "### Order data  \n",
    "  \n",
    "The order dataset contains the history of orders placed by customers acquired between 2015-03-01 and 2017-02-28. The data points were *synthetically* generated to reflect patterns of real data for the purpose of the exercise.  \n",
    "  \n",
    "The dataset columns definition:  \n",
    "\n",
    "  \n",
    "|Column|Description|  \n",
    "|---|---|  \n",
    "|*customer_id*|Unique customer ID.|  \n",
    "|*order_date*|Local date of the order.|  \n",
    "|*order_hour*|Local hour of the order.|  \n",
    "|*customer_order_rank*|Number of a successful order counted in chronological order starting with 1 (an empty value would correspond to a failed order).|  \n",
    "|*is_failed*|0 if the order succeeded.<br>1 if the order failed.|  \n",
    "|*voucher_amount*|The discounted amount if a voucher (discount) was used at order's checkout.|  \n",
    "|*delivery_fee*|Fee charged for the delivery of the order (if applicable).|  \n",
    "|*amount_paid*|Total amount paid by the customer (the *voucher_amount* is already deducted and the *delivery_fee* is already added).|  \n",
    "|*restaurant_id*|Unique restaurant ID.|  \n",
    "|*city_id*|Unique city ID.|  \n",
    "|*payment_id*|Identifies the payment method the customer has chosen (such as cash, credit card, PayPal, ...).|  \n",
    "|*platform_id*|Identifies the platform the customer used to place the order (web, mobile app, mobile web, …).|  \n",
    "|*transmission_id*|Identifies the method used to place the order to the restaurant (fax, email, phone, and different kinds of proprietary devices or point-of-sale systems).|  \n",
    "  \n",
    "The data rows are ordered by *customer_id* and *order_date*: all orders of one customer appear in chronological order on consecutive rows.  \n",
    "\n",
    "### Labeled data  \n",
    "  \n",
    "The [labeled dataset](./data/machine_learning_challenge_labeled_data.csv.gz) flags whether the customers placed at least one order within 6 months after 2017-02-28 or not.  \n",
    "  \n",
    "The dataset columns definition:  \n",
    "|Column|Description|  \n",
    "|---|---|  \n",
    "|*customer_id*|Unique customer ID.|  \n",
    "|*is_returning_customer*|0 if the customer did not return (did not order again) in the 6 months after 2017-02-28.<br>1 if the customer returned (ordered again) at least once after 2017-02-28.|  \n",
    "  \n",
    "The data rows are ordered by *customer_id*.  "
   ]
  },
  {
   "cell_type": "markdown",
   "metadata": {},
   "source": [
    "### Importing libraries"
   ]
  },
  {
   "cell_type": "code",
   "execution_count": 1,
   "metadata": {
    "ExecuteTime": {
     "end_time": "2020-10-13T19:35:36.016209Z",
     "start_time": "2020-10-13T19:35:33.382868Z"
    }
   },
   "outputs": [],
   "source": [
    "import pandas as pd\n",
    "import numpy as np\n",
    "import matplotlib.pyplot as plt\n",
    "import seaborn as sns\n",
    "from datetime import datetime\n",
    "from pandas_profiling import ProfileReport\n",
    "import warnings\n",
    "warnings.filterwarnings(\"ignore\") \n",
    "plt.style.use('bmh')\n",
    "\n",
    "break_point = datetime(2017, 2, 28)"
   ]
  },
  {
   "cell_type": "markdown",
   "metadata": {},
   "source": [
    "### Importing datasets"
   ]
  },
  {
   "cell_type": "code",
   "execution_count": 2,
   "metadata": {
    "ExecuteTime": {
     "end_time": "2020-10-13T19:35:37.320546Z",
     "start_time": "2020-10-13T19:35:36.017608Z"
    }
   },
   "outputs": [
    {
     "name": "stdout",
     "output_type": "stream",
     "text": [
      "Reading files...\n",
      "Order data has 786600 rows and 13 columns\n",
      "Label data has 245455 rows and 2 columns\n"
     ]
    }
   ],
   "source": [
    "def read_data():\n",
    "    print('Reading files...')    \n",
    "    order_df = pd.read_csv('../input/machine_learning_challenge_order_data.csv')\n",
    "    print('Order data has {} rows and {} columns'.format(order_df.shape[0], order_df.shape[1]))\n",
    "    label_df = pd.read_csv('../input/machine_learning_challenge_labeled_data.csv')\n",
    "    print('Label data has {} rows and {} columns'.format(label_df.shape[0], label_df.shape[1]))\n",
    "    df = order_df.merge(label_df, on='customer_id')\n",
    "    return df\n",
    "\n",
    "df = read_data()"
   ]
  },
  {
   "cell_type": "markdown",
   "metadata": {},
   "source": [
    "### Profile Report"
   ]
  },
  {
   "cell_type": "code",
   "execution_count": null,
   "metadata": {
    "ExecuteTime": {
     "start_time": "2020-10-13T19:35:34.086Z"
    },
    "scrolled": true
   },
   "outputs": [
    {
     "data": {
      "application/vnd.jupyter.widget-view+json": {
       "model_id": "874584688d5e4f6b8567e5942aaa3017",
       "version_major": 2,
       "version_minor": 0
      },
      "text/plain": [
       "HBox(children=(HTML(value='Summarize dataset'), FloatProgress(value=0.0, max=28.0), HTML(value='')))"
      ]
     },
     "metadata": {},
     "output_type": "display_data"
    }
   ],
   "source": [
    "profile = ProfileReport(df)\n",
    "profile.to_file(output_file='/output/pandas-profiling.html')\n",
    "profile.to_widgets()"
   ]
  },
  {
   "cell_type": "markdown",
   "metadata": {},
   "source": [
    "#### Warnings by pandas-profiling\n",
    "- Dataset has 546 (0.1%) duplicate rows\n",
    "- customer_id has a high cardinality: 245455 distinct values\n",
    "- order_date has a high cardinality: 776 distinct values\n",
    "- customer_order_rank has 24767 (3.1%) missing values\n",
    "- voucher_amount is highly skewed (γ1 = 30.39394065)\n",
    "- platform_id is highly skewed (γ1 = -22.53663783)\n",
    "- voucher_amount has 743462 (94.5%) zeros\n",
    "- delivery_fee has 597536 (76.0%) zeros"
   ]
  },
  {
   "cell_type": "markdown",
   "metadata": {
    "ExecuteTime": {
     "end_time": "2020-10-10T19:53:35.234072Z",
     "start_time": "2020-10-10T19:53:35.037837Z"
    }
   },
   "source": [
    "### Descriptive Analysis"
   ]
  },
  {
   "cell_type": "code",
   "execution_count": null,
   "metadata": {},
   "outputs": [],
   "source": []
  },
  {
   "cell_type": "code",
   "execution_count": null,
   "metadata": {
    "ExecuteTime": {
     "start_time": "2020-10-13T19:35:34.091Z"
    }
   },
   "outputs": [],
   "source": [
    "df.describe()"
   ]
  },
  {
   "cell_type": "code",
   "execution_count": null,
   "metadata": {
    "ExecuteTime": {
     "start_time": "2020-10-13T19:35:34.095Z"
    }
   },
   "outputs": [],
   "source": [
    "pd.concat([df.count(), df.nunique(), df.isnull().sum(), round(100 * df.isnull().sum()/len(df), 2)],\n",
    "              axis=1).rename(columns={0:'Count', 1:'Unique Value', 2:'Missing Value', 3:'Missing (%)'})"
   ]
  },
  {
   "cell_type": "markdown",
   "metadata": {},
   "source": [
    "786600 orders from 245455 customers (31.2%)\n",
    "\n",
    "24767 missing values in customer_order_rank (3.1%)"
   ]
  },
  {
   "cell_type": "code",
   "execution_count": null,
   "metadata": {
    "ExecuteTime": {
     "start_time": "2020-10-13T19:35:34.099Z"
    }
   },
   "outputs": [],
   "source": [
    "df['demand'] = 1\n",
    "df[df.order_date>'2015-01'].groupby('order_date')['demand'].sum().plot(color='red', figsize=(15, 5),\n",
    "                                    title='Order by Date')\n",
    "plt.xlabel('')\n",
    "plt.show()"
   ]
  },
  {
   "cell_type": "code",
   "execution_count": null,
   "metadata": {
    "ExecuteTime": {
     "start_time": "2020-10-13T19:35:34.101Z"
    }
   },
   "outputs": [],
   "source": [
    "df['order_date']=pd.to_datetime(df['order_date'])\n",
    "df['year'] = df['order_date'].dt.year\n",
    "df['month'] = df['order_date'].dt.month\n",
    "df['week'] = df['order_date'].dt.week\n",
    "df['day'] = df['order_date'].dt.day\n",
    "df['dayofweek'] = df['order_date'].dt.dayofweek\n",
    "df[\"is_weekend\"] = df[\"dayofweek\"].isin([5, 6]).astype(np.int8)"
   ]
  },
  {
   "cell_type": "code",
   "execution_count": null,
   "metadata": {
    "ExecuteTime": {
     "start_time": "2020-10-13T19:35:34.106Z"
    },
    "scrolled": false
   },
   "outputs": [],
   "source": [
    "fig, [[ax0, ax1], [ax2, ax3]] = plt.subplots(2,2, figsize=(18, 5))\n",
    "\n",
    "df.groupby('order_hour')['demand'].sum().plot(color='red', figsize=(12, 5), \n",
    "                                    title='order count: hour',ax=ax0)\n",
    "\n",
    "df.groupby('dayofweek')['demand'].sum().plot(color='red', figsize=(12, 5),\n",
    "                                    title='order count: day of week',ax=ax1)\n",
    "\n",
    "df.groupby('month')['demand'].sum().plot(color='red', figsize=(12, 5),\n",
    "                                    title='order count: month',ax=ax2)\n",
    "\n",
    "df.groupby('year')['demand'].sum().plot(color='red', figsize=(12, 5),\n",
    "                                    title='order count: year',ax=ax3)\n",
    "plt.tight_layout()\n",
    "plt.show()"
   ]
  },
  {
   "cell_type": "markdown",
   "metadata": {},
   "source": [
    "### Revenue Distribution"
   ]
  },
  {
   "cell_type": "code",
   "execution_count": null,
   "metadata": {
    "ExecuteTime": {
     "start_time": "2020-10-13T19:35:34.108Z"
    }
   },
   "outputs": [],
   "source": [
    "gdf = df.groupby(\"customer_id\")[\"amount_paid\"].sum().reset_index()\n",
    "\n",
    "plt.figure(figsize=(10,6))\n",
    "plt.scatter(range(gdf.shape[0]), np.sort(gdf[\"amount_paid\"].values), color='red')\n",
    "plt.xlabel('Customer', fontsize=12)\n",
    "plt.ylabel('Amount Paid', fontsize=12)\n",
    "plt.show()"
   ]
  },
  {
   "cell_type": "markdown",
   "metadata": {},
   "source": [
    "The 80/20 rule is still valid. Generally, loyal customers create most of the revenue."
   ]
  },
  {
   "cell_type": "markdown",
   "metadata": {},
   "source": [
    "### Target Variable"
   ]
  },
  {
   "cell_type": "code",
   "execution_count": null,
   "metadata": {
    "ExecuteTime": {
     "start_time": "2020-10-13T19:35:34.110Z"
    }
   },
   "outputs": [],
   "source": [
    "plt.figure(figsize = (8,6))\n",
    "grouped_df = df.groupby('customer_id').last()\n",
    "ax = sns.countplot(x=\"is_returning_customer\", data=grouped_df)"
   ]
  },
  {
   "cell_type": "markdown",
   "metadata": {},
   "source": [
    "### Order vs Recency Matrix"
   ]
  },
  {
   "cell_type": "markdown",
   "metadata": {},
   "source": [
    "Generally, two main features characterize the behaviors of eCommerce users: the number of orders and recency, so we analyze our customers in order-recency matrix before the modeling part. \n",
    "\n",
    "Almost 40% of customers (left below) are in the 1st order and don't order in the last 24 weeks. We could label them as promo-seeker or churn based on the assumptions of marketing team.\n",
    "\n",
    "We create an average returning matrix that helps us to predict churn cases easily. As we see in the last notebook, predictions of ML are very similar to the below. "
   ]
  },
  {
   "cell_type": "code",
   "execution_count": null,
   "metadata": {
    "ExecuteTime": {
     "start_time": "2020-10-13T19:35:34.112Z"
    }
   },
   "outputs": [],
   "source": [
    "order_bins = [0, 1, 4, 9, 49, 99, 999]\n",
    "order_labels = [\"1\", \"2-4\", \"5-9\", \"10-49\", \"50-99\", \"100+\"]\n",
    "\n",
    "grouped_df['order_date'] = pd.to_datetime(grouped_df['order_date']) \n",
    "grouped_df['recency'] = (break_point - grouped_df['order_date']) / np.timedelta64(1, 'D')\n",
    "grouped_df['order_binned'] = pd.cut(grouped_df['customer_order_rank'], bins=order_bins, labels=order_labels)\n",
    "\n",
    "recency_bins = [0, 7, 14, 28, 84, 168, 1680]\n",
    "recency_labels = [\"0-7\", \"8-14\", \"15-28\", \"29-84\", \"85-168\", \"168+\"]\n",
    "grouped_df['recency_binned'] = pd.cut(grouped_df['recency'], bins=recency_bins, labels=recency_labels)\n",
    "\n",
    "result_probs = grouped_df.pivot_table(columns='order_binned', \n",
    "                                     index='recency_binned', values='is_returning_customer', aggfunc='mean')\n",
    "result_count = grouped_df.pivot_table(columns='order_binned', \n",
    "                                     index='recency_binned', values='is_returning_customer', aggfunc='count')"
   ]
  },
  {
   "cell_type": "code",
   "execution_count": null,
   "metadata": {
    "ExecuteTime": {
     "start_time": "2020-10-13T19:35:34.114Z"
    }
   },
   "outputs": [],
   "source": [
    "fig, (ax0,ax1) = plt.subplots(1,2, figsize=(18, 8))\n",
    "\n",
    "sns.heatmap(data = round(result_count, 2), annot = True, cmap='Blues', fmt='g', ax=ax0)\n",
    "ax0.set_title('Order Count vs Recency Matrix (client count)')\n",
    "ax0.set_xlabel('Order Bins')\n",
    "ax0.set_ylabel('Recency Bins')\n",
    "\n",
    "sns.heatmap(data = round(result_probs, 2), annot = True, cmap='Blues', fmt='g', ax=ax1)\n",
    "ax1.set_title('Avg. Returning Matrix (y_actual)')\n",
    "ax1.set_xlabel('Order Bins')\n",
    "ax1.set_ylabel('Recency Bins')\n",
    "plt.show()"
   ]
  },
  {
   "cell_type": "markdown",
   "metadata": {},
   "source": [
    "### Correlation Matrix"
   ]
  },
  {
   "cell_type": "code",
   "execution_count": null,
   "metadata": {
    "ExecuteTime": {
     "start_time": "2020-10-13T19:35:34.117Z"
    }
   },
   "outputs": [],
   "source": [
    "a,x = plt.subplots(figsize=(12,10))\n",
    "corr = grouped_df.dropna().corr()\n",
    "max_corr = corr.nlargest(15, 'is_returning_customer')['is_returning_customer'].index\n",
    "cm = np.corrcoef(grouped_df.dropna()[max_corr].values.T)\n",
    "matrix = sns.heatmap(cm, annot=True, square=True, fmt='.2f', \n",
    "                 linewidths= 0.1, vmax = 1, cmap = 'RdBu',\n",
    "                  yticklabels=max_corr.values, \n",
    "                                 xticklabels=max_corr.values, ax = x)\n",
    "plt.title('Correlation Matrix')\n",
    "plt.show()"
   ]
  },
  {
   "cell_type": "markdown",
   "metadata": {},
   "source": [
    "### What is next?\n",
    "\n",
    "In the following feature engineering and modeling notebooks, we will create features and uncover insights from the raw data using several ML models.\n",
    "\n",
    "ML models help us to capture hidden patterns and increase model accuracy compared to rule-based models."
   ]
  }
 ],
 "metadata": {
  "hide_input": false,
  "kernelspec": {
   "display_name": "Python 3",
   "language": "python",
   "name": "python3"
  },
  "language_info": {
   "codemirror_mode": {
    "name": "ipython",
    "version": 3
   },
   "file_extension": ".py",
   "mimetype": "text/x-python",
   "name": "python",
   "nbconvert_exporter": "python",
   "pygments_lexer": "ipython3",
   "version": "3.7.3"
  }
 },
 "nbformat": 4,
 "nbformat_minor": 2
}
